{
 "cells": [
  {
   "cell_type": "code",
   "execution_count": 2,
   "metadata": {},
   "outputs": [
    {
     "data": {
      "text/html": [
       "<div>\n",
       "<style scoped>\n",
       "    .dataframe tbody tr th:only-of-type {\n",
       "        vertical-align: middle;\n",
       "    }\n",
       "\n",
       "    .dataframe tbody tr th {\n",
       "        vertical-align: top;\n",
       "    }\n",
       "\n",
       "    .dataframe thead th {\n",
       "        text-align: right;\n",
       "    }\n",
       "</style>\n",
       "<table border=\"1\" class=\"dataframe\">\n",
       "  <thead>\n",
       "    <tr style=\"text-align: right;\">\n",
       "      <th></th>\n",
       "      <th>Pena de Fênix</th>\n",
       "      <th>Chifre de Unicórnio</th>\n",
       "      <th>Sangue de Dragão</th>\n",
       "      <th>Lágrimas de Sereia</th>\n",
       "      <th>Pó de Fada</th>\n",
       "      <th>Dedos de Duende</th>\n",
       "      <th>Cerveja de Bruxa</th>\n",
       "      <th>Garra de Grifo</th>\n",
       "      <th>Cabelo de Troll</th>\n",
       "      <th>Tinta de Kraken</th>\n",
       "      <th>Chifre de Minotauro</th>\n",
       "      <th>Escama de Basilísco</th>\n",
       "      <th>Presa de Quimera</th>\n",
       "      <th>Venenoso</th>\n",
       "    </tr>\n",
       "  </thead>\n",
       "  <tbody>\n",
       "    <tr>\n",
       "      <th>1058</th>\n",
       "      <td>28.9</td>\n",
       "      <td>11.6</td>\n",
       "      <td>14.2</td>\n",
       "      <td>7.9</td>\n",
       "      <td>8.7</td>\n",
       "      <td>12.4</td>\n",
       "      <td>6.9</td>\n",
       "      <td>2.9</td>\n",
       "      <td>24.0</td>\n",
       "      <td>6.5</td>\n",
       "      <td>1.3</td>\n",
       "      <td>13.2</td>\n",
       "      <td>27.1</td>\n",
       "      <td>0</td>\n",
       "    </tr>\n",
       "  </tbody>\n",
       "</table>\n",
       "</div>"
      ],
      "text/plain": [
       "      Pena de Fênix  Chifre de Unicórnio  Sangue de Dragão  \\\n",
       "1058           28.9                 11.6              14.2   \n",
       "\n",
       "      Lágrimas de Sereia  Pó de Fada  Dedos de Duende  Cerveja de Bruxa  \\\n",
       "1058                 7.9         8.7             12.4               6.9   \n",
       "\n",
       "      Garra de Grifo  Cabelo de Troll  Tinta de Kraken  Chifre de Minotauro  \\\n",
       "1058             2.9             24.0              6.5                  1.3   \n",
       "\n",
       "      Escama de Basilísco  Presa de Quimera  Venenoso  \n",
       "1058                 13.2              27.1         0  "
      ]
     },
     "execution_count": 2,
     "metadata": {},
     "output_type": "execute_result"
    }
   ],
   "source": [
    "\n",
    "import pandas as pd\n",
    "\n",
    "df = pd.read_csv('./dados_modificados 1.csv').dropna()\n",
    "\n",
    "df.sample()"
   ]
  },
  {
   "cell_type": "code",
   "execution_count": 3,
   "metadata": {},
   "outputs": [
    {
     "data": {
      "text/plain": [
       "LinearRegression()"
      ]
     },
     "execution_count": 3,
     "metadata": {},
     "output_type": "execute_result"
    }
   ],
   "source": [
    "X, y = df[['Pena de Fênix','Chifre de Unicórnio','Sangue de Dragão', 'Lágrimas de Sereia', 'Pó de Fada', 'Dedos de Duende', 'Cerveja de Bruxa', 'Garra de Grifo', 'Cabelo de Troll', 'Chifre de Minotauro', 'Escama de Basilísco', 'Presa de Quimera', 'Venenoso']], df['Tinta de Kraken']\n",
    "\n",
    "from sklearn.model_selection import train_test_split\n",
    "\n",
    "X_train, X_test, y_train, y_test = train_test_split(X, y, test_size=0.3)\n",
    "\n",
    "from sklearn.linear_model import LinearRegression\n",
    "\n",
    "lr = LinearRegression()\n",
    "\n",
    "lr.fit(X_train,y_train)\n",
    "\n",
    "\n"
   ]
  },
  {
   "cell_type": "code",
   "execution_count": 6,
   "metadata": {},
   "outputs": [
    {
     "data": {
      "text/plain": [
       "5.026983421448831"
      ]
     },
     "execution_count": 6,
     "metadata": {},
     "output_type": "execute_result"
    }
   ],
   "source": [
    "from sklearn.metrics import mean_absolute_error\n",
    "\n",
    "y_pred = lr.predict(X_test)\n",
    "\n",
    "mean_absolute_error(y_test, y_pred)\n"
   ]
  },
  {
   "cell_type": "code",
   "execution_count": 25,
   "metadata": {},
   "outputs": [
    {
     "data": {
      "text/plain": [
       "array([19.74478383, 18.11351062, 12.77630654, ..., 12.553534  ,\n",
       "       13.40336934, 18.53357989])"
      ]
     },
     "execution_count": 25,
     "metadata": {},
     "output_type": "execute_result"
    }
   ],
   "source": [
    "dfpred = pd.read_csv('./dados_modificados 1.csv')\n",
    "\n",
    "dff = dfpred.iloc[pd.isna(dfpred['Tinta de Kraken']).index, :]\n",
    "\n",
    "Z = dff[['Pena de Fênix','Chifre de Unicórnio','Sangue de Dragão', 'Lágrimas de Sereia', 'Pó de Fada', 'Dedos de Duende', 'Cerveja de Bruxa', 'Garra de Grifo', 'Cabelo de Troll', 'Chifre de Minotauro', 'Escama de Basilísco', 'Presa de Quimera', 'Venenoso']] \n",
    "\n",
    "\n",
    "lr.predict(Z)\n"
   ]
  },
  {
   "cell_type": "code",
   "execution_count": 16,
   "metadata": {},
   "outputs": [],
   "source": [
    "dfpred.loc[pd.isna(dfpred['Tinta de Kraken']).index, 'Tinta de Kraken'] = lr.predict(Z)"
   ]
  },
  {
   "cell_type": "code",
   "execution_count": 18,
   "metadata": {},
   "outputs": [
    {
     "name": "stdout",
     "output_type": "stream",
     "text": [
      "<class 'pandas.core.frame.DataFrame'>\n",
      "RangeIndex: 2338 entries, 0 to 2337\n",
      "Data columns (total 14 columns):\n",
      " #   Column               Non-Null Count  Dtype  \n",
      "---  ------               --------------  -----  \n",
      " 0   Pena de Fênix        2338 non-null   float64\n",
      " 1   Chifre de Unicórnio  2338 non-null   float64\n",
      " 2   Sangue de Dragão     2338 non-null   float64\n",
      " 3   Lágrimas de Sereia   2338 non-null   float64\n",
      " 4   Pó de Fada           2338 non-null   float64\n",
      " 5   Dedos de Duende      2338 non-null   float64\n",
      " 6   Cerveja de Bruxa     2338 non-null   float64\n",
      " 7   Garra de Grifo       2338 non-null   float64\n",
      " 8   Cabelo de Troll      2338 non-null   float64\n",
      " 9   Tinta de Kraken      2338 non-null   float64\n",
      " 10  Chifre de Minotauro  2338 non-null   float64\n",
      " 11  Escama de Basilísco  2338 non-null   float64\n",
      " 12  Presa de Quimera     2338 non-null   float64\n",
      " 13  Venenoso             2338 non-null   int64  \n",
      "dtypes: float64(13), int64(1)\n",
      "memory usage: 255.8 KB\n"
     ]
    }
   ],
   "source": [
    "dfpred.info()"
   ]
  },
  {
   "cell_type": "code",
   "execution_count": 23,
   "metadata": {},
   "outputs": [
    {
     "data": {
      "text/plain": [
       "KNeighborsClassifier()"
      ]
     },
     "execution_count": 23,
     "metadata": {},
     "output_type": "execute_result"
    }
   ],
   "source": [
    "A, b = dfpred[['Pena de Fênix','Chifre de Unicórnio','Sangue de Dragão', 'Lágrimas de Sereia', 'Pó de Fada', 'Dedos de Duende', 'Cerveja de Bruxa', 'Garra de Grifo', 'Cabelo de Troll', 'Chifre de Minotauro', 'Escama de Basilísco', 'Presa de Quimera', 'Tinta de Kraken']], dfpred['Venenoso']\n",
    "\n",
    "\n",
    "A_train, A_test, b_train, b_test = train_test_split(A, b, test_size=0.3)\n",
    "\n",
    "from sklearn.neighbors import KNeighborsClassifier\n",
    "\n",
    "neigh = KNeighborsClassifier(n_neighbors=5)\n",
    "\n",
    "neigh.fit(A_train, b_train)\n",
    "\n",
    "neigh\n"
   ]
  },
  {
   "cell_type": "code",
   "execution_count": 24,
   "metadata": {},
   "outputs": [
    {
     "name": "stdout",
     "output_type": "stream",
     "text": [
      "              precision    recall  f1-score   support\n",
      "\n",
      "           0       0.87      0.92      0.89       347\n",
      "           1       0.92      0.86      0.89       355\n",
      "\n",
      "    accuracy                           0.89       702\n",
      "   macro avg       0.89      0.89      0.89       702\n",
      "weighted avg       0.89      0.89      0.89       702\n",
      "\n"
     ]
    }
   ],
   "source": [
    "from sklearn.metrics import classification_report\n",
    "\n",
    "print(classification_report(b_test, neigh.predict(A_test) ))"
   ]
  }
 ],
 "metadata": {
  "kernelspec": {
   "display_name": "Python 3.9.12 ('base')",
   "language": "python",
   "name": "python3"
  },
  "language_info": {
   "codemirror_mode": {
    "name": "ipython",
    "version": 3
   },
   "file_extension": ".py",
   "mimetype": "text/x-python",
   "name": "python",
   "nbconvert_exporter": "python",
   "pygments_lexer": "ipython3",
   "version": "3.9.12"
  },
  "orig_nbformat": 4,
  "vscode": {
   "interpreter": {
    "hash": "ad2bdc8ecc057115af97d19610ffacc2b4e99fae6737bb82f5d7fb13d2f2c186"
   }
  }
 },
 "nbformat": 4,
 "nbformat_minor": 2
}
